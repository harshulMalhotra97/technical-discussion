{
  "nbformat": 4,
  "nbformat_minor": 0,
  "metadata": {
    "colab": {
      "provenance": [],
      "authorship_tag": "ABX9TyPEUieHnBP1XOiDt4rtXsLw",
      "include_colab_link": true
    },
    "kernelspec": {
      "name": "python3",
      "display_name": "Python 3"
    },
    "language_info": {
      "name": "python"
    }
  },
  "cells": [
    {
      "cell_type": "markdown",
      "metadata": {
        "id": "view-in-github",
        "colab_type": "text"
      },
      "source": [
        "<a href=\"https://colab.research.google.com/github/harshulMalhotra97/technical-discussion/blob/main/Untitled0.ipynb\" target=\"_parent\"><img src=\"https://colab.research.google.com/assets/colab-badge.svg\" alt=\"Open In Colab\"/></a>"
      ]
    },
    {
      "cell_type": "markdown",
      "source": [
        "### Ingest"
      ],
      "metadata": {
        "id": "meeyGSBQlsq_"
      }
    },
    {
      "cell_type": "code",
      "source": [
        "def myfunc():\n",
        "  return \"We are returning a string.\""
      ],
      "metadata": {
        "id": "6HaCBcqFmFCl"
      },
      "execution_count": 1,
      "outputs": []
    },
    {
      "cell_type": "markdown",
      "source": [
        "## EDA\n"
      ],
      "metadata": {
        "id": "Se8F3CTPmaoy"
      }
    },
    {
      "cell_type": "code",
      "source": [],
      "metadata": {
        "id": "kSMKCH48meO5"
      },
      "execution_count": null,
      "outputs": []
    },
    {
      "cell_type": "markdown",
      "source": [
        "# Conclusion\n",
        "## This way we use markdown for building a data science project using google colab"
      ],
      "metadata": {
        "id": "2LWKXdiTmjhP"
      }
    },
    {
      "cell_type": "code",
      "source": [],
      "metadata": {
        "id": "CC-2GX7qmtSh"
      },
      "execution_count": null,
      "outputs": []
    }
  ]
}